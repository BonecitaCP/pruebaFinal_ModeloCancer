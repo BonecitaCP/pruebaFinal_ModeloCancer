{
 "cells": [
  {
   "cell_type": "code",
   "execution_count": null,
   "id": "f50827e3-763f-443a-8cb3-7a70601c8852",
   "metadata": {},
   "outputs": [],
   "source": [
    "#Importar el archivo consolidado"
   ]
  },
  {
   "cell_type": "code",
   "execution_count": null,
   "id": "d4d203e0-55be-4f64-8a63-f80fe7c8f9d8",
   "metadata": {
    "tags": []
   },
   "outputs": [],
   "source": [
    "import pandas as pd\n",
    "import numpy as np\n",
    "from sklearn.model_selection import train_test_split\n",
    "from sklearn.ensemble import RandomForestClassifier\n",
    "from sklearn.metrics import mean_squared_error\n",
    "import matplotlib.pyplot as plt\n",
    "from sklearn.metrics import confusion_matrix, accuracy_score\n",
    "import seaborn as sns"
   ]
  },
  {
   "cell_type": "code",
   "execution_count": null,
   "id": "9c72a3db-2fdc-476b-a108-eff5ade7030e",
   "metadata": {
    "tags": []
   },
   "outputs": [],
   "source": [
    "train_df=pd.read_csv('./Data/wdbc.txt')"
   ]
  },
  {
   "cell_type": "code",
   "execution_count": null,
   "id": "62347e5e-bab5-42c0-8aa2-c2af62e44da0",
   "metadata": {
    "tags": []
   },
   "outputs": [],
   "source": [
    "train_df"
   ]
  },
  {
   "cell_type": "code",
   "execution_count": null,
   "id": "a2b29d5d-25c8-41a3-9dbc-c6d44a4eab79",
   "metadata": {},
   "outputs": [],
   "source": [
    "#Validar la data (no blancos, no nulos, tipo de datos)"
   ]
  },
  {
   "cell_type": "code",
   "execution_count": null,
   "id": "ba792336-11e6-4efe-8e72-0fa9301edd01",
   "metadata": {
    "tags": []
   },
   "outputs": [],
   "source": [
    "for c in train_df.columns:\n",
    "    print(f'({c} {sum(train_df.isna()[c])/train_df.shape[0]}')"
   ]
  },
  {
   "cell_type": "code",
   "execution_count": null,
   "id": "4330e3ee-47cc-4b69-9783-85af4609aae8",
   "metadata": {
    "tags": []
   },
   "outputs": [],
   "source": [
    "train_df.dtypes"
   ]
  },
  {
   "cell_type": "code",
   "execution_count": null,
   "id": "923d5127-ce58-4516-994e-0f25bc2d121d",
   "metadata": {
    "tags": []
   },
   "outputs": [],
   "source": [
    "train_df.isna()"
   ]
  },
  {
   "cell_type": "code",
   "execution_count": null,
   "id": "b3e24108-e4fa-46d5-910e-4ca503f3fd82",
   "metadata": {
    "tags": []
   },
   "outputs": [],
   "source": [
    "train_df.plot.scatter(x=\"radius1\", y=\"symmetry1\")"
   ]
  },
  {
   "cell_type": "code",
   "execution_count": null,
   "id": "63ffcd70-54f3-4fc9-b0d1-6018d92bb102",
   "metadata": {
    "tags": []
   },
   "outputs": [],
   "source": [
    "train_df['Diagnosis'] = train_df['Diagnosis'].apply(lambda x: 0 if x == 'B' else 1)\n",
    "train_df"
   ]
  },
  {
   "cell_type": "code",
   "execution_count": null,
   "id": "d039836f-8593-433a-9a14-6e1b5560ab7b",
   "metadata": {
    "tags": []
   },
   "outputs": [],
   "source": [
    "y = train_df['Diagnosis']"
   ]
  },
  {
   "cell_type": "code",
   "execution_count": null,
   "id": "83e60f7d-e924-462a-a675-af47379e5f2a",
   "metadata": {
    "tags": []
   },
   "outputs": [],
   "source": [
    "X = train_df.drop('Diagnosis', axis=1)"
   ]
  },
  {
   "cell_type": "code",
   "execution_count": null,
   "id": "721e755f-493e-4e74-929f-5f7aad691607",
   "metadata": {
    "tags": []
   },
   "outputs": [],
   "source": [
    "X"
   ]
  },
  {
   "cell_type": "code",
   "execution_count": null,
   "id": "3135f413-a9e8-43e7-b8b6-0378d1ed0a62",
   "metadata": {
    "tags": []
   },
   "outputs": [],
   "source": [
    "y"
   ]
  },
  {
   "cell_type": "code",
   "execution_count": null,
   "id": "a0099551-3143-4871-840b-4af54c576930",
   "metadata": {
    "tags": []
   },
   "outputs": [],
   "source": [
    "from sklearn.model_selection import train_test_split"
   ]
  },
  {
   "cell_type": "code",
   "execution_count": null,
   "id": "8d1c537e-5a83-4b16-a5d9-11168780f04e",
   "metadata": {
    "tags": []
   },
   "outputs": [],
   "source": [
    "X_train, X_test, y_train, y_test = train_test_split(X, y, test_size = 0.2, random_state = 43)"
   ]
  },
  {
   "cell_type": "code",
   "execution_count": null,
   "id": "9bca4565-5cff-4f12-beaa-fd358496d9bb",
   "metadata": {
    "tags": []
   },
   "outputs": [],
   "source": [
    "# Inicializar el clasificador de Bosque Aleatorio\n",
    "clf = RandomForestClassifier(n_estimators=100, random_state=43)"
   ]
  },
  {
   "cell_type": "code",
   "execution_count": null,
   "id": "a0cb1822-6e2a-4066-8400-a9d2ce489d0c",
   "metadata": {
    "tags": []
   },
   "outputs": [],
   "source": [
    "clf"
   ]
  },
  {
   "cell_type": "code",
   "execution_count": null,
   "id": "5d4de5f5-56da-4f67-bb19-d6dd59cccf74",
   "metadata": {
    "tags": []
   },
   "outputs": [],
   "source": [
    "# Entrenamiento del modelo\n",
    "clf.fit(X_train, y_train)"
   ]
  },
  {
   "cell_type": "code",
   "execution_count": null,
   "id": "4e1227bb-eb0e-47ad-a76c-2e3d4e33e609",
   "metadata": {
    "tags": []
   },
   "outputs": [],
   "source": [
    "from sklearn.metrics import confusion_matrix, ConfusionMatrixDisplay\n",
    "import matplotlib.pyplot as plt\n",
    "\n",
    "# Realizar predicciones en el conjunto de prueba\n",
    "y_pred = clf.predict(X_test)"
   ]
  },
  {
   "cell_type": "code",
   "execution_count": null,
   "id": "dc9b927f-60c1-4606-8ef0-5d09a0fb847a",
   "metadata": {
    "tags": []
   },
   "outputs": [],
   "source": [
    "y_pred"
   ]
  },
  {
   "cell_type": "code",
   "execution_count": null,
   "id": "992eeba1-f391-4fcd-823e-0d10b7c6330a",
   "metadata": {
    "tags": []
   },
   "outputs": [],
   "source": [
    "# Calcular la matriz de confusión\n",
    "cm = confusion_matrix(y_test, y_pred)"
   ]
  },
  {
   "cell_type": "code",
   "execution_count": null,
   "id": "90fc2c6f-5680-4960-9387-891556aadaec",
   "metadata": {
    "tags": []
   },
   "outputs": [],
   "source": [
    "cm"
   ]
  },
  {
   "cell_type": "code",
   "execution_count": null,
   "id": "de27bfce-4091-4a20-a909-11a3589be6a6",
   "metadata": {
    "tags": []
   },
   "outputs": [],
   "source": [
    "# Visualización de la matriz de confusión\n",
    "disp = ConfusionMatrixDisplay(confusion_matrix=cm, display_labels=clf.classes_)\n",
    "disp.plot()\n",
    "plt.xlabel('Predicción')\n",
    "plt.ylabel('Verdadero')\n",
    "plt.title('Matriz de Confusión')\n",
    "plt.show()"
   ]
  },
  {
   "cell_type": "code",
   "execution_count": null,
   "id": "c23ecbc3-3175-40fd-a7f6-2aa6e2a7f22e",
   "metadata": {
    "tags": []
   },
   "outputs": [],
   "source": [
    "#Dimencionalidad del modelo\n",
    "train_df_Dimensionalidad=pd.read_csv('./Data/wdbc.txt')\n",
    "train_df_Dimensionalidad"
   ]
  },
  {
   "cell_type": "code",
   "execution_count": null,
   "id": "f5a28c10-9a80-4e6d-8c54-7da9da90dbbc",
   "metadata": {
    "tags": []
   },
   "outputs": [],
   "source": [
    "train_df_Dimensionalidad['Diagnosis'] = train_df_Dimensionalidad['Diagnosis'].apply(lambda x: 0 if x == 'B' else 1)\n",
    "train_df_Dimensionalidad"
   ]
  },
  {
   "cell_type": "code",
   "execution_count": null,
   "id": "d46f690f-467d-4b0b-a3fa-dc98bc740094",
   "metadata": {
    "tags": []
   },
   "outputs": [],
   "source": [
    "from sklearn.manifold import TSNE\n",
    "tsne = TSNE(n_components=2)\n",
    "X_tsne = tsne.fit_transform(train_df)\n",
    "X_tsne"
   ]
  },
  {
   "cell_type": "code",
   "execution_count": null,
   "id": "061e66a9-cce8-431b-933a-a620bf6789a6",
   "metadata": {
    "tags": []
   },
   "outputs": [],
   "source": [
    "df_TSNE=pd.DataFrame({'TSNE1':X_tsne[:,0],'TSNE2':X_tsne[:,1],'Diagnosis':train_df['Diagnosis']})\n",
    "df_TSNE"
   ]
  },
  {
   "cell_type": "code",
   "execution_count": null,
   "id": "67d51c95-c5dc-451c-9f17-87360cdaafd8",
   "metadata": {
    "tags": []
   },
   "outputs": [],
   "source": [
    "varianza_x = np.var(X_tsne[:, 0])\n",
    "varianza_x"
   ]
  },
  {
   "cell_type": "code",
   "execution_count": null,
   "id": "0c1f644b-e6b0-4f99-9caf-66a9d878cb62",
   "metadata": {
    "tags": []
   },
   "outputs": [],
   "source": [
    "varianza_y = np.var(X_tsne[:, 1])\n",
    "varianza_y"
   ]
  },
  {
   "cell_type": "code",
   "execution_count": null,
   "id": "dae5603a-1387-4ad2-a499-35381062f4e6",
   "metadata": {
    "tags": []
   },
   "outputs": [],
   "source": [
    "suma=varianza_x+varianza_y\n",
    "suma"
   ]
  },
  {
   "cell_type": "code",
   "execution_count": null,
   "id": "ece4d038-c037-4042-897c-a95a96555969",
   "metadata": {
    "tags": []
   },
   "outputs": [],
   "source": [
    "sns.scatterplot(x='TSNE1', y='TSNE2', hue='Diagnosis', data=df_TSNE)"
   ]
  },
  {
   "cell_type": "code",
   "execution_count": null,
   "id": "b6c4e964-5380-42cb-b011-dec86d378053",
   "metadata": {
    "tags": []
   },
   "outputs": [],
   "source": [
    "y_TSNE = df_TSNE['Diagnosis']\n",
    "X_TSNE = df_TSNE.drop('Diagnosis', axis=1)\n",
    "X_TSNE.head(10)"
   ]
  },
  {
   "cell_type": "code",
   "execution_count": null,
   "id": "28da432b-caf9-40cf-88de-d367db083f75",
   "metadata": {
    "tags": []
   },
   "outputs": [],
   "source": [
    "X_train1, X_test1, y_train1, y_test1 = train_test_split(X_TSNE, y_TSNE, test_size=0.2, random_state=43)"
   ]
  },
  {
   "cell_type": "code",
   "execution_count": null,
   "id": "23acc44f-d1c1-4e04-aad2-314e0851929e",
   "metadata": {
    "tags": []
   },
   "outputs": [],
   "source": [
    "# Inicializar el clasificador de Bosque Aleatorio\n",
    "clf1 = RandomForestClassifier(n_estimators=100, random_state=43)"
   ]
  },
  {
   "cell_type": "code",
   "execution_count": null,
   "id": "86137412-7622-49dc-a084-e785c0292719",
   "metadata": {
    "tags": []
   },
   "outputs": [],
   "source": [
    "clf1"
   ]
  },
  {
   "cell_type": "code",
   "execution_count": null,
   "id": "4b11fd6b-f44d-4296-937f-8a50292f6c40",
   "metadata": {
    "tags": []
   },
   "outputs": [],
   "source": [
    "# Entrenamiento del modelo\n",
    "clf1.fit(X_train1, y_train1)"
   ]
  },
  {
   "cell_type": "code",
   "execution_count": null,
   "id": "d78d05d0-5353-4121-8379-4b6490b5d88d",
   "metadata": {
    "tags": []
   },
   "outputs": [],
   "source": [
    "# Realizar predicciones en el conjunto de prueba\n",
    "y_pred1 = clf1.predict(X_test1)\n",
    "y_pred1"
   ]
  },
  {
   "cell_type": "code",
   "execution_count": null,
   "id": "7ecc70df-9cb6-4ae8-bf46-f4f723c2f3c7",
   "metadata": {
    "tags": []
   },
   "outputs": [],
   "source": [
    "# Calcular la matriz de confusión\n",
    "cm1 = confusion_matrix(y_test1, y_pred1)\n",
    "cm1"
   ]
  },
  {
   "cell_type": "code",
   "execution_count": null,
   "id": "d877cb47-67a9-4b5e-9be8-9d5d9f71dfc4",
   "metadata": {},
   "outputs": [],
   "source": [
    "# Visualización de la matriz de confusión\n",
    "disp = ConfusionMatrixDisplay(confusion_matrix=cm1, display_labels=clf.classes_)\n",
    "disp.plot()\n",
    "plt.xlabel('Predicción')\n",
    "plt.ylabel('Verdadero')\n",
    "plt.title('Matriz de Confusión')\n",
    "plt.show()"
   ]
  },
  {
   "cell_type": "code",
   "execution_count": null,
   "id": "e0d7c523-8e6b-4280-9d76-b57bf00cf522",
   "metadata": {},
   "outputs": [],
   "source": []
  }
 ],
 "metadata": {
  "kernelspec": {
   "display_name": "Python 3 (ipykernel)",
   "language": "python",
   "name": "python3"
  },
  "language_info": {
   "codemirror_mode": {
    "name": "ipython",
    "version": 3
   },
   "file_extension": ".py",
   "mimetype": "text/x-python",
   "name": "python",
   "nbconvert_exporter": "python",
   "pygments_lexer": "ipython3",
   "version": "3.11.5"
  }
 },
 "nbformat": 4,
 "nbformat_minor": 5
}
