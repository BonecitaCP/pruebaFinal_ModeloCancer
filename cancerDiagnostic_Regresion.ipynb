{
 "cells": [
  {
   "cell_type": "code",
   "execution_count": null,
   "id": "f50827e3-763f-443a-8cb3-7a70601c8852",
   "metadata": {},
   "outputs": [],
   "source": [
    "#Importar el archivo consolidado"
   ]
  },
  {
   "cell_type": "code",
   "execution_count": null,
   "id": "d4d203e0-55be-4f64-8a63-f80fe7c8f9d8",
   "metadata": {
    "tags": []
   },
   "outputs": [],
   "source": [
    "import pandas as pd"
   ]
  },
  {
   "cell_type": "code",
   "execution_count": null,
   "id": "9c72a3db-2fdc-476b-a108-eff5ade7030e",
   "metadata": {
    "tags": []
   },
   "outputs": [],
   "source": [
    "train_df=pd.read_csv('./Data/wdbc.txt')"
   ]
  },
  {
   "cell_type": "code",
   "execution_count": null,
   "id": "62347e5e-bab5-42c0-8aa2-c2af62e44da0",
   "metadata": {
    "tags": []
   },
   "outputs": [],
   "source": [
    "train_df"
   ]
  },
  {
   "cell_type": "code",
   "execution_count": null,
   "id": "a2b29d5d-25c8-41a3-9dbc-c6d44a4eab79",
   "metadata": {},
   "outputs": [],
   "source": [
    "#Validar la data (no blancos, no nulos, tipo de datos)"
   ]
  },
  {
   "cell_type": "code",
   "execution_count": null,
   "id": "ba792336-11e6-4efe-8e72-0fa9301edd01",
   "metadata": {
    "tags": []
   },
   "outputs": [],
   "source": [
    "for c in train_df.columns:\n",
    "    print(f'({c} {sum(train_df.isna()[c])/train_df.shape[0]}')"
   ]
  },
  {
   "cell_type": "code",
   "execution_count": null,
   "id": "4330e3ee-47cc-4b69-9783-85af4609aae8",
   "metadata": {
    "tags": []
   },
   "outputs": [],
   "source": [
    "train_df.dtypes"
   ]
  },
  {
   "cell_type": "code",
   "execution_count": null,
   "id": "923d5127-ce58-4516-994e-0f25bc2d121d",
   "metadata": {
    "tags": []
   },
   "outputs": [],
   "source": [
    "train_df.isna()"
   ]
  },
  {
   "cell_type": "code",
   "execution_count": null,
   "id": "b3e24108-e4fa-46d5-910e-4ca503f3fd82",
   "metadata": {
    "tags": []
   },
   "outputs": [],
   "source": [
    "train_df.plot.scatter(x=\"radius1\", y=\"symmetry1\")"
   ]
  },
  {
   "cell_type": "code",
   "execution_count": null,
   "id": "63ffcd70-54f3-4fc9-b0d1-6018d92bb102",
   "metadata": {
    "tags": []
   },
   "outputs": [],
   "source": [
    "train_df['Diagnostico'] = train_df['Diagnosis'].apply(lambda x: 0 if x == 'B' else 1)\n",
    "train_df"
   ]
  },
  {
   "cell_type": "code",
   "execution_count": null,
   "id": "d039836f-8593-433a-9a14-6e1b5560ab7b",
   "metadata": {
    "tags": []
   },
   "outputs": [],
   "source": [
    "y = train_df['Diagnostico']"
   ]
  },
  {
   "cell_type": "code",
   "execution_count": null,
   "id": "83e60f7d-e924-462a-a675-af47379e5f2a",
   "metadata": {
    "tags": []
   },
   "outputs": [],
   "source": [
    "X = train_df[['radius1', 'symmetry1']]"
   ]
  },
  {
   "cell_type": "code",
   "execution_count": null,
   "id": "721e755f-493e-4e74-929f-5f7aad691607",
   "metadata": {
    "tags": []
   },
   "outputs": [],
   "source": [
    "X"
   ]
  },
  {
   "cell_type": "code",
   "execution_count": null,
   "id": "3135f413-a9e8-43e7-b8b6-0378d1ed0a62",
   "metadata": {
    "tags": []
   },
   "outputs": [],
   "source": [
    "y"
   ]
  },
  {
   "cell_type": "code",
   "execution_count": null,
   "id": "a0099551-3143-4871-840b-4af54c576930",
   "metadata": {
    "tags": []
   },
   "outputs": [],
   "source": [
    "from sklearn.model_selection import train_test_split"
   ]
  },
  {
   "cell_type": "code",
   "execution_count": null,
   "id": "8d1c537e-5a83-4b16-a5d9-11168780f04e",
   "metadata": {
    "tags": []
   },
   "outputs": [],
   "source": [
    "X_train, X_test, y_train, y_test = train_test_split(X, y, test_size = 0.2, random_state = 44)"
   ]
  },
  {
   "cell_type": "code",
   "execution_count": null,
   "id": "bd55faad-d8eb-4295-bab3-ad381a850935",
   "metadata": {
    "tags": []
   },
   "outputs": [],
   "source": [
    "from sklearn.linear_model import LinearRegression"
   ]
  },
  {
   "cell_type": "code",
   "execution_count": null,
   "id": "825f7808-400a-489c-8824-35d89005283d",
   "metadata": {
    "tags": []
   },
   "outputs": [],
   "source": [
    "%%time\n",
    "reg = LinearRegression()"
   ]
  },
  {
   "cell_type": "code",
   "execution_count": null,
   "id": "5046e49f-968e-4050-bac8-2ca44f449c50",
   "metadata": {
    "tags": []
   },
   "outputs": [],
   "source": [
    "y_train"
   ]
  },
  {
   "cell_type": "code",
   "execution_count": null,
   "id": "180bc792-16c7-44c6-8cd4-c84b544248b8",
   "metadata": {
    "tags": []
   },
   "outputs": [],
   "source": [
    "y_train = reg.fit(X_train, y_train)"
   ]
  },
  {
   "cell_type": "code",
   "execution_count": null,
   "id": "5cb638ca-78a9-49f5-ace3-553a1bca7a7b",
   "metadata": {
    "tags": []
   },
   "outputs": [],
   "source": [
    "y_train"
   ]
  },
  {
   "cell_type": "code",
   "execution_count": null,
   "id": "568c56e4-f362-4af2-84ed-130a96fb4f2a",
   "metadata": {
    "tags": []
   },
   "outputs": [],
   "source": [
    "reg.predict([[7.76, 0.1587]])"
   ]
  },
  {
   "cell_type": "code",
   "execution_count": null,
   "id": "6b07a108-bf8d-4f8a-ab7c-d77c5ec59d08",
   "metadata": {
    "tags": []
   },
   "outputs": [],
   "source": [
    "y_predict = reg.predict(X_test)"
   ]
  },
  {
   "cell_type": "code",
   "execution_count": null,
   "id": "727f8e1f-f070-4b99-b762-10ca3683af84",
   "metadata": {
    "tags": []
   },
   "outputs": [],
   "source": [
    "y_predict"
   ]
  },
  {
   "cell_type": "code",
   "execution_count": null,
   "id": "39aba7e4-fe3f-458d-8eae-291ed0c327c7",
   "metadata": {
    "tags": []
   },
   "outputs": [],
   "source": [
    "from sklearn.metrics import mean_squared_error, r2_score\n",
    "\n",
    "mse = mean_squared_error(y_test, y_predict)\n",
    "r2s = r2_score(y_test, y_predict)"
   ]
  },
  {
   "cell_type": "code",
   "execution_count": null,
   "id": "85b701ab-e39e-4cb1-a2b9-5096794037db",
   "metadata": {
    "tags": []
   },
   "outputs": [],
   "source": [
    "print(f\"Error cuadrático medio: {mse}\")\n",
    "print(f\"R-squared: {r2s}\")"
   ]
  },
  {
   "cell_type": "code",
   "execution_count": null,
   "id": "41426633-b293-44dc-b684-c6783e8704a6",
   "metadata": {
    "tags": []
   },
   "outputs": [],
   "source": [
    "matriz = pd.DataFrame()"
   ]
  },
  {
   "cell_type": "code",
   "execution_count": null,
   "id": "341cbe9c-75b8-4e3e-9926-4e239d149345",
   "metadata": {
    "tags": []
   },
   "outputs": [],
   "source": [
    "matriz['observaciones'] = y_test"
   ]
  },
  {
   "cell_type": "code",
   "execution_count": null,
   "id": "35969738-d242-42ee-874a-4a949aeb9260",
   "metadata": {
    "tags": []
   },
   "outputs": [],
   "source": [
    "matriz['predicciones'] = y_predict.astype('int64')"
   ]
  },
  {
   "cell_type": "code",
   "execution_count": null,
   "id": "39689c3d-b64c-4a76-8262-3a2c79e58115",
   "metadata": {
    "tags": []
   },
   "outputs": [],
   "source": [
    "matriz.dtypes"
   ]
  },
  {
   "cell_type": "code",
   "execution_count": null,
   "id": "2d7fabec-6ce1-4ccd-8a9d-21bac0d57ac9",
   "metadata": {
    "tags": []
   },
   "outputs": [],
   "source": [
    "import sklearn.metrics as sklm\n",
    "mc = sklm.confusion_matrix(matriz['observaciones'], matriz['predicciones'])\n",
    "mc"
   ]
  },
  {
   "cell_type": "code",
   "execution_count": null,
   "id": "15fe5781-5dcd-49a8-8087-56ba90ff9931",
   "metadata": {
    "tags": []
   },
   "outputs": [],
   "source": [
    "from sklearn.linear_model import LogisticRegression\n",
    "from sklearn.metrics import confusion_matrix, accuracy_score\n",
    "import seaborn as sns\n",
    "import matplotlib.pyplot as plt\n",
    "matriz_confusion = confusion_matrix(matriz['observaciones'], matriz['predicciones'])\n",
    "sns.heatmap(matriz_confusion, annot=True, fmt='d', cmap='Blues', cbar=False)\n",
    "plt.xlabel('Predicción')\n",
    "plt.ylabel('Verdadero')\n",
    "plt.title('Matriz de Confusión')\n",
    "plt.show()"
   ]
  },
  {
   "cell_type": "code",
   "execution_count": null,
   "id": "29e53365-e460-4796-bda1-8ea493e17d66",
   "metadata": {
    "tags": []
   },
   "outputs": [],
   "source": [
    "#Dimencionalidad del modelo\n",
    "train_df_Dimensionalidad=pd.read_csv('./Data/wdbc.txt')"
   ]
  },
  {
   "cell_type": "code",
   "execution_count": null,
   "id": "dfe8539b-56f4-4800-8262-b15541222a7a",
   "metadata": {
    "tags": []
   },
   "outputs": [],
   "source": [
    "train_df_Dimensionalidad"
   ]
  },
  {
   "cell_type": "code",
   "execution_count": null,
   "id": "f96befaf-4ff7-4d90-9a59-4f4e1877c65b",
   "metadata": {
    "tags": []
   },
   "outputs": [],
   "source": [
    "train_df_Dimensionalidad['Diagnostico'] = train_df_Dimensionalidad['Diagnosis'].apply(lambda x: 0 if x == 'B' else 1)\n",
    "train_df_Dimensionalidad"
   ]
  },
  {
   "cell_type": "code",
   "execution_count": null,
   "id": "aa5c8d0f-1683-45f7-9c82-93b310b3617c",
   "metadata": {
    "tags": []
   },
   "outputs": [],
   "source": [
    "train_df_Dimensionalidad['Diagnosis'] = train_df_Dimensionalidad['Diagnostico'].apply(lambda x: False if x == 0 else True)\n",
    "train_df_Dimensionalidad"
   ]
  },
  {
   "cell_type": "code",
   "execution_count": null,
   "id": "6a897a9d-617b-4a52-868e-d65ae7225150",
   "metadata": {
    "tags": []
   },
   "outputs": [],
   "source": [
    "\"Escalar Datos\"\n",
    "from sklearn.preprocessing import StandardScaler\n",
    "scaler = StandardScaler()\n",
    "X_scaled = scaler.fit_transform(train_df_Dimensionalidad)\n",
    "X_scaled"
   ]
  },
  {
   "cell_type": "code",
   "execution_count": null,
   "id": "e03d705c-564f-464a-9af8-d80600ab6bf5",
   "metadata": {
    "tags": []
   },
   "outputs": [],
   "source": [
    "y_zeros = train_df_Dimensionalidad['Diagnostico']\n",
    "y_zeros"
   ]
  },
  {
   "cell_type": "code",
   "execution_count": null,
   "id": "441b1273-4b09-444f-805a-4ff1eaf31be4",
   "metadata": {
    "tags": []
   },
   "outputs": [],
   "source": [
    "import matplotlib.pyplot as plt\n",
    "fig=plt.figure(figsize=(18,6))\n",
    "ax=fig.add_subplot(1,2,1)\n",
    "ax.plot(X_scaled,y_zeros,linewidth=1, marker=\"*\", color=\"purple\", markersize=20)\n",
    "plt.show()"
   ]
  },
  {
   "cell_type": "code",
   "execution_count": null,
   "id": "3db15234-8640-4765-b1ea-9df38ed298a4",
   "metadata": {
    "tags": []
   },
   "outputs": [],
   "source": [
    "X_scaled.shape"
   ]
  },
  {
   "cell_type": "code",
   "execution_count": null,
   "id": "3d018af5-1dc9-46c6-95a0-5a4df100e047",
   "metadata": {
    "tags": []
   },
   "outputs": [],
   "source": [
    "train_df_Dimensionalidad.cov()"
   ]
  },
  {
   "cell_type": "code",
   "execution_count": null,
   "id": "de36cf0d-2f63-4b92-a6ed-d77102dd1841",
   "metadata": {
    "tags": []
   },
   "outputs": [],
   "source": [
    "from sklearn.decomposition import PCA\n",
    "import numpy as np"
   ]
  },
  {
   "cell_type": "code",
   "execution_count": null,
   "id": "af79d4e9-4de9-4433-983a-260834feea1d",
   "metadata": {
    "tags": []
   },
   "outputs": [],
   "source": [
    "pca=PCA(n_components=3)\n",
    "X_pca=pca.fit_transform(train_df_Dimensionalidad)\n",
    "X_pca"
   ]
  },
  {
   "cell_type": "code",
   "execution_count": null,
   "id": "1521c5fb-7f70-4f93-a677-4848210b9f4e",
   "metadata": {
    "tags": []
   },
   "outputs": [],
   "source": [
    "df_PCA=pd.DataFrame({'PCA1':X_pca[:,0],'PCA2':X_pca[:,1],'PCA3':X_pca[:,2],'Diagnosis':train_df_Dimensionalidad['Diagnosis']})\n",
    "df_PCA"
   ]
  },
  {
   "cell_type": "code",
   "execution_count": null,
   "id": "3db3f053-0514-4663-b32a-2b86e1cfbc54",
   "metadata": {
    "tags": []
   },
   "outputs": [],
   "source": [
    "varianza=pca.explained_variance_ratio_\n",
    "varianza"
   ]
  },
  {
   "cell_type": "code",
   "execution_count": null,
   "id": "5334207d-83e3-4acc-b179-bf9846386460",
   "metadata": {
    "tags": []
   },
   "outputs": [],
   "source": [
    "suma_varianza=pca.explained_variance_ratio_.sum()\n",
    "suma_varianza"
   ]
  },
  {
   "cell_type": "code",
   "execution_count": null,
   "id": "c46e6ede-3341-4dc7-9674-a7c1a0495ee0",
   "metadata": {
    "tags": []
   },
   "outputs": [],
   "source": [
    "import seaborn as sns\n",
    "import matplotlib.pyplot as plt\n",
    "sns.scatterplot(x='PCA1', y='PCA2', hue='Diagnosis', data=df_PCA)"
   ]
  },
  {
   "cell_type": "code",
   "execution_count": null,
   "id": "067d211a-41c4-44a8-8fa2-c05770d05840",
   "metadata": {
    "tags": []
   },
   "outputs": [],
   "source": [
    "from sklearn.model_selection import train_test_split"
   ]
  },
  {
   "cell_type": "code",
   "execution_count": null,
   "id": "59a745cc-b08e-48d4-97cf-2d7982fc59ee",
   "metadata": {
    "tags": []
   },
   "outputs": [],
   "source": [
    "y_PCA = df_PCA['Diagnosis']\n",
    "X_PCA = df_PCA.drop('Diagnosis', axis=1)\n",
    "X_PCA.head(10)"
   ]
  },
  {
   "cell_type": "code",
   "execution_count": null,
   "id": "fb99ff72-ad01-4fba-a28d-b5edd93876dc",
   "metadata": {
    "tags": []
   },
   "outputs": [],
   "source": [
    "X_train1, X_test1, y_train1, y_test1 = train_test_split(X_PCA, y_PCA, test_size=0.2, random_state=39)"
   ]
  },
  {
   "cell_type": "code",
   "execution_count": null,
   "id": "ab732152-6b49-419f-a429-783a34748e41",
   "metadata": {
    "tags": []
   },
   "outputs": [],
   "source": [
    "y_train1 = reg.fit(X_train1, y_train1)"
   ]
  },
  {
   "cell_type": "code",
   "execution_count": null,
   "id": "8e1f67b3-3d79-4858-9028-b9941d6bda2b",
   "metadata": {
    "tags": []
   },
   "outputs": [],
   "source": [
    "y_predict1 = reg.predict(X_test1)\n",
    "y_predict1"
   ]
  },
  {
   "cell_type": "code",
   "execution_count": null,
   "id": "05111770-33e7-4117-a4c2-cdf4023a0697",
   "metadata": {
    "tags": []
   },
   "outputs": [],
   "source": [
    "mse = mean_squared_error(y_test1, y_predict1)\n",
    "r2s = r2_score(y_test1, y_predict1)"
   ]
  },
  {
   "cell_type": "code",
   "execution_count": null,
   "id": "cbf5983b-3763-4935-b20a-2bca22183482",
   "metadata": {
    "tags": []
   },
   "outputs": [],
   "source": [
    "print(f\"Error cuadrático medio: {mse}\")\n",
    "print(f\"R-squared: {r2s}\")"
   ]
  },
  {
   "cell_type": "code",
   "execution_count": null,
   "id": "e7230661-e5d8-4e4b-b975-6b4866e317ca",
   "metadata": {
    "tags": []
   },
   "outputs": [],
   "source": [
    "matriz1 = pd.DataFrame()"
   ]
  },
  {
   "cell_type": "code",
   "execution_count": null,
   "id": "6c462412-5a41-4e65-98fd-2bcfb5240441",
   "metadata": {
    "tags": []
   },
   "outputs": [],
   "source": [
    "matriz1['observaciones'] = y_test1"
   ]
  },
  {
   "cell_type": "code",
   "execution_count": null,
   "id": "fe94e851-5dd0-4c3c-afda-924de215e4a0",
   "metadata": {
    "tags": []
   },
   "outputs": [],
   "source": [
    "matriz1['predicciones'] = y_predict1.astype('int64')"
   ]
  },
  {
   "cell_type": "code",
   "execution_count": null,
   "id": "02396890-2e7a-4b66-b6f5-87c746ccbf22",
   "metadata": {
    "tags": []
   },
   "outputs": [],
   "source": [
    "matriz1.dtypes"
   ]
  },
  {
   "cell_type": "code",
   "execution_count": null,
   "id": "19308636-5c1e-42b3-9e41-e534ab2291c6",
   "metadata": {
    "tags": []
   },
   "outputs": [],
   "source": [
    "import sklearn.metrics as sklm\n",
    "mc = sklm.confusion_matrix(matriz1['observaciones'], matriz1['predicciones'])\n",
    "mc"
   ]
  },
  {
   "cell_type": "code",
   "execution_count": null,
   "id": "a81c50f1-0a0c-4fd4-9f40-22f573d6426a",
   "metadata": {
    "tags": []
   },
   "outputs": [],
   "source": [
    "from sklearn.linear_model import LogisticRegression\n",
    "from sklearn.metrics import confusion_matrix, accuracy_score\n",
    "import seaborn as sns\n",
    "import matplotlib.pyplot as plt\n",
    "matriz_confusion2 = confusion_matrix(matriz1['observaciones'], matriz1['predicciones'])\n",
    "sns.heatmap(matriz_confusion2, annot=True, fmt='d', cmap='Blues', cbar=False)\n",
    "plt.xlabel('Predicción')\n",
    "plt.ylabel('Verdadero')\n",
    "plt.title('Matriz de Confusión')\n",
    "plt.show()"
   ]
  },
  {
   "cell_type": "code",
   "execution_count": null,
   "id": "20f30ed1-8492-432d-97bb-24729c9d9a96",
   "metadata": {},
   "outputs": [],
   "source": []
  }
 ],
 "metadata": {
  "kernelspec": {
   "display_name": "Python 3 (ipykernel)",
   "language": "python",
   "name": "python3"
  },
  "language_info": {
   "codemirror_mode": {
    "name": "ipython",
    "version": 3
   },
   "file_extension": ".py",
   "mimetype": "text/x-python",
   "name": "python",
   "nbconvert_exporter": "python",
   "pygments_lexer": "ipython3",
   "version": "3.11.5"
  }
 },
 "nbformat": 4,
 "nbformat_minor": 5
}
