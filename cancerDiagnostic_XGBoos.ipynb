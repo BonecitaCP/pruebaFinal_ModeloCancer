{
 "cells": [
  {
   "cell_type": "code",
   "execution_count": null,
   "id": "f50827e3-763f-443a-8cb3-7a70601c8852",
   "metadata": {},
   "outputs": [],
   "source": [
    "#Importar el archivo consolidado"
   ]
  },
  {
   "cell_type": "code",
   "execution_count": null,
   "id": "d4d203e0-55be-4f64-8a63-f80fe7c8f9d8",
   "metadata": {
    "tags": []
   },
   "outputs": [],
   "source": [
    "import pandas as pd\n",
    "import numpy as np\n",
    "from sklearn.model_selection import train_test_split\n",
    "from sklearn.ensemble import RandomForestClassifier\n",
    "from sklearn.metrics import mean_squared_error\n",
    "import matplotlib.pyplot as plt\n",
    "from sklearn.metrics import confusion_matrix, accuracy_score\n",
    "import seaborn as sns"
   ]
  },
  {
   "cell_type": "code",
   "execution_count": null,
   "id": "9c72a3db-2fdc-476b-a108-eff5ade7030e",
   "metadata": {
    "tags": []
   },
   "outputs": [],
   "source": [
    "train_df=pd.read_csv('./Data/wdbc.txt')"
   ]
  },
  {
   "cell_type": "code",
   "execution_count": null,
   "id": "62347e5e-bab5-42c0-8aa2-c2af62e44da0",
   "metadata": {
    "tags": []
   },
   "outputs": [],
   "source": [
    "train_df"
   ]
  },
  {
   "cell_type": "code",
   "execution_count": null,
   "id": "a2b29d5d-25c8-41a3-9dbc-c6d44a4eab79",
   "metadata": {},
   "outputs": [],
   "source": [
    "#Validar la data (no blancos, no nulos, tipo de datos)"
   ]
  },
  {
   "cell_type": "code",
   "execution_count": null,
   "id": "ba792336-11e6-4efe-8e72-0fa9301edd01",
   "metadata": {
    "tags": []
   },
   "outputs": [],
   "source": [
    "for c in train_df.columns:\n",
    "    print(f'({c} {sum(train_df.isna()[c])/train_df.shape[0]}')"
   ]
  },
  {
   "cell_type": "code",
   "execution_count": null,
   "id": "4330e3ee-47cc-4b69-9783-85af4609aae8",
   "metadata": {
    "tags": []
   },
   "outputs": [],
   "source": [
    "train_df.dtypes"
   ]
  },
  {
   "cell_type": "code",
   "execution_count": null,
   "id": "923d5127-ce58-4516-994e-0f25bc2d121d",
   "metadata": {
    "tags": []
   },
   "outputs": [],
   "source": [
    "train_df.isna()"
   ]
  },
  {
   "cell_type": "code",
   "execution_count": null,
   "id": "b3e24108-e4fa-46d5-910e-4ca503f3fd82",
   "metadata": {
    "tags": []
   },
   "outputs": [],
   "source": [
    "train_df.plot.scatter(x=\"radius1\", y=\"symmetry1\")"
   ]
  },
  {
   "cell_type": "code",
   "execution_count": null,
   "id": "63ffcd70-54f3-4fc9-b0d1-6018d92bb102",
   "metadata": {
    "tags": []
   },
   "outputs": [],
   "source": [
    "train_df['Diagnosis'] = train_df['Diagnosis'].apply(lambda x: 0 if x == 'B' else 1)\n",
    "train_df"
   ]
  },
  {
   "cell_type": "code",
   "execution_count": null,
   "id": "d039836f-8593-433a-9a14-6e1b5560ab7b",
   "metadata": {
    "tags": []
   },
   "outputs": [],
   "source": [
    "y = train_df['Diagnosis']"
   ]
  },
  {
   "cell_type": "code",
   "execution_count": null,
   "id": "83e60f7d-e924-462a-a675-af47379e5f2a",
   "metadata": {
    "tags": []
   },
   "outputs": [],
   "source": [
    "X = train_df.drop('Diagnosis', axis=1)"
   ]
  },
  {
   "cell_type": "code",
   "execution_count": null,
   "id": "721e755f-493e-4e74-929f-5f7aad691607",
   "metadata": {
    "tags": []
   },
   "outputs": [],
   "source": [
    "X"
   ]
  },
  {
   "cell_type": "code",
   "execution_count": null,
   "id": "3135f413-a9e8-43e7-b8b6-0378d1ed0a62",
   "metadata": {
    "tags": []
   },
   "outputs": [],
   "source": [
    "y"
   ]
  },
  {
   "cell_type": "code",
   "execution_count": null,
   "id": "a0099551-3143-4871-840b-4af54c576930",
   "metadata": {
    "tags": []
   },
   "outputs": [],
   "source": [
    "from sklearn.model_selection import train_test_split"
   ]
  },
  {
   "cell_type": "code",
   "execution_count": null,
   "id": "8d1c537e-5a83-4b16-a5d9-11168780f04e",
   "metadata": {
    "tags": []
   },
   "outputs": [],
   "source": [
    "X_train, X_test, y_train, y_test = train_test_split(X, y, test_size = 0.2, random_state = 44)"
   ]
  },
  {
   "cell_type": "code",
   "execution_count": null,
   "id": "14261490-c994-44b9-b580-4fdd7ce88301",
   "metadata": {
    "tags": []
   },
   "outputs": [],
   "source": [
    "from sklearn.preprocessing import LabelEncoder\n",
    "from sklearn.feature_extraction.text import TfidfVectorizer\n",
    "from xgboost import XGBClassifier\n",
    "from sklearn.metrics import accuracy_score, precision_score, recall_score, confusion_matrix, roc_auc_score"
   ]
  },
  {
   "cell_type": "code",
   "execution_count": null,
   "id": "5510cbd5-895b-45c5-9345-58cd36b0c139",
   "metadata": {
    "tags": []
   },
   "outputs": [],
   "source": [
    "classifier = XGBClassifier()"
   ]
  },
  {
   "cell_type": "code",
   "execution_count": null,
   "id": "f24b389b-f36e-4571-9909-99727df73e47",
   "metadata": {
    "tags": []
   },
   "outputs": [],
   "source": [
    "classifier.fit(X_train, y_train)"
   ]
  },
  {
   "cell_type": "code",
   "execution_count": null,
   "id": "d13378fd-ffbf-4119-bfd5-a915536aaa3d",
   "metadata": {
    "tags": []
   },
   "outputs": [],
   "source": [
    "y_pred = classifier.predict(X_test)\n",
    "y_pred_proba = classifier.predict_proba(X_test)[:, 1] "
   ]
  },
  {
   "cell_type": "code",
   "execution_count": null,
   "id": "67018322-3d65-4ae7-9027-324921955b06",
   "metadata": {
    "tags": []
   },
   "outputs": [],
   "source": [
    "accuracy = accuracy_score(y_test, y_pred)\n",
    "accuracy"
   ]
  },
  {
   "cell_type": "code",
   "execution_count": null,
   "id": "a49ed712-7a07-4828-b93a-d7de7718a1fd",
   "metadata": {
    "tags": []
   },
   "outputs": [],
   "source": [
    "precision = precision_score(y_test, y_pred)\n",
    "precision"
   ]
  },
  {
   "cell_type": "code",
   "execution_count": null,
   "id": "8397abd2-743a-48a6-a382-8473271ace0c",
   "metadata": {
    "tags": []
   },
   "outputs": [],
   "source": [
    "recall = recall_score(y_test, y_pred)\n",
    "recall"
   ]
  },
  {
   "cell_type": "code",
   "execution_count": null,
   "id": "40932e24-9a3f-4253-8e23-d28322c9bb68",
   "metadata": {
    "tags": []
   },
   "outputs": [],
   "source": [
    "conf_matrix = confusion_matrix(y_test, y_pred)\n",
    "conf_matrix"
   ]
  },
  {
   "cell_type": "code",
   "execution_count": null,
   "id": "53744feb-117b-4cc5-833f-64b79cb86b2b",
   "metadata": {
    "tags": []
   },
   "outputs": [],
   "source": [
    "roc_auc = roc_auc_score(y_test, y_pred_proba)\n",
    "roc_auc"
   ]
  },
  {
   "cell_type": "code",
   "execution_count": null,
   "id": "353183a0-cf22-4f86-887a-97dfcbc72013",
   "metadata": {
    "tags": []
   },
   "outputs": [],
   "source": [
    "cm = confusion_matrix(y_test, y_pred)\n",
    "plt.figure(figsize=(8, 6))\n",
    "sns.heatmap(conf_matrix, annot=True, fmt='d', cmap='Blues', cbar=False)\n",
    "plt.xlabel('Predicciones')\n",
    "plt.ylabel('Etiquetas Verdaderas')\n",
    "plt.title('Matriz de Confusión')\n",
    "plt.show()"
   ]
  },
  {
   "cell_type": "code",
   "execution_count": null,
   "id": "c23ecbc3-3175-40fd-a7f6-2aa6e2a7f22e",
   "metadata": {
    "tags": []
   },
   "outputs": [],
   "source": [
    "#Dimencionalidad del modelo\n",
    "train_df_Dimensionalidad=pd.read_csv('./Data/wdbc.txt')\n",
    "train_df_Dimensionalidad"
   ]
  },
  {
   "cell_type": "code",
   "execution_count": null,
   "id": "f5a28c10-9a80-4e6d-8c54-7da9da90dbbc",
   "metadata": {
    "tags": []
   },
   "outputs": [],
   "source": [
    "train_df_Dimensionalidad['Diagnosis'] = train_df_Dimensionalidad['Diagnosis'].apply(lambda x: 0 if x == 'B' else 1)\n",
    "train_df_Dimensionalidad"
   ]
  },
  {
   "cell_type": "code",
   "execution_count": null,
   "id": "d46f690f-467d-4b0b-a3fa-dc98bc740094",
   "metadata": {
    "tags": []
   },
   "outputs": [],
   "source": [
    "from sklearn.manifold import TSNE\n",
    "tsne = TSNE(n_components=2)\n",
    "X_tsne = tsne.fit_transform(train_df)\n",
    "X_tsne"
   ]
  },
  {
   "cell_type": "code",
   "execution_count": null,
   "id": "061e66a9-cce8-431b-933a-a620bf6789a6",
   "metadata": {
    "tags": []
   },
   "outputs": [],
   "source": [
    "df_TSNE=pd.DataFrame({'TSNE1':X_tsne[:,0],'TSNE2':X_tsne[:,1],'Diagnosis':train_df['Diagnosis']})\n",
    "df_TSNE"
   ]
  },
  {
   "cell_type": "code",
   "execution_count": null,
   "id": "67d51c95-c5dc-451c-9f17-87360cdaafd8",
   "metadata": {
    "tags": []
   },
   "outputs": [],
   "source": [
    "varianza_x = np.var(X_tsne[:, 0])\n",
    "varianza_x"
   ]
  },
  {
   "cell_type": "code",
   "execution_count": null,
   "id": "0c1f644b-e6b0-4f99-9caf-66a9d878cb62",
   "metadata": {
    "tags": []
   },
   "outputs": [],
   "source": [
    "varianza_y = np.var(X_tsne[:, 1])\n",
    "varianza_y"
   ]
  },
  {
   "cell_type": "code",
   "execution_count": null,
   "id": "dae5603a-1387-4ad2-a499-35381062f4e6",
   "metadata": {
    "tags": []
   },
   "outputs": [],
   "source": [
    "suma=varianza_x+varianza_y\n",
    "suma"
   ]
  },
  {
   "cell_type": "code",
   "execution_count": null,
   "id": "ece4d038-c037-4042-897c-a95a96555969",
   "metadata": {
    "tags": []
   },
   "outputs": [],
   "source": [
    "sns.scatterplot(x='TSNE1', y='TSNE2', hue='Diagnosis', data=df_TSNE)"
   ]
  },
  {
   "cell_type": "code",
   "execution_count": null,
   "id": "b6c4e964-5380-42cb-b011-dec86d378053",
   "metadata": {
    "tags": []
   },
   "outputs": [],
   "source": [
    "y_TSNE = df_TSNE['Diagnosis']\n",
    "X_TSNE = df_TSNE.drop('Diagnosis', axis=1)\n",
    "X_TSNE.head(10)"
   ]
  },
  {
   "cell_type": "code",
   "execution_count": null,
   "id": "28da432b-caf9-40cf-88de-d367db083f75",
   "metadata": {
    "tags": []
   },
   "outputs": [],
   "source": [
    "X_train1, X_test1, y_train1, y_test1 = train_test_split(X_TSNE, y_TSNE, test_size=0.2, random_state=44)"
   ]
  },
  {
   "cell_type": "code",
   "execution_count": null,
   "id": "d877cb47-67a9-4b5e-9be8-9d5d9f71dfc4",
   "metadata": {
    "tags": []
   },
   "outputs": [],
   "source": [
    "classifierTDE = XGBClassifier()"
   ]
  },
  {
   "cell_type": "code",
   "execution_count": null,
   "id": "4371f54f-6d86-4a18-acfc-d1f8f165df27",
   "metadata": {
    "tags": []
   },
   "outputs": [],
   "source": [
    "classifierTDE.fit(X_train1, y_train1)"
   ]
  },
  {
   "cell_type": "code",
   "execution_count": null,
   "id": "35c1ef9d-bbc0-48be-9dc9-e2640cc74b79",
   "metadata": {
    "tags": []
   },
   "outputs": [],
   "source": [
    "y_pred1 = classifierTDE.predict(X_test1)\n",
    "y_pred_proba1 = classifierTDE.predict_proba(X_test1)[:, 1] "
   ]
  },
  {
   "cell_type": "code",
   "execution_count": null,
   "id": "68d5b485-9eba-4818-959c-8518eb386f25",
   "metadata": {
    "tags": []
   },
   "outputs": [],
   "source": [
    "accuracyTDE = accuracy_score(y_test1, y_pred1)\n",
    "accuracyTDE"
   ]
  },
  {
   "cell_type": "code",
   "execution_count": null,
   "id": "04bb6c1f-eed4-4056-b15a-5d5e659eb487",
   "metadata": {
    "tags": []
   },
   "outputs": [],
   "source": [
    "precisionTDE = precision_score(y_test1, y_pred1)\n",
    "precisionTDE"
   ]
  },
  {
   "cell_type": "code",
   "execution_count": null,
   "id": "85410e47-966b-4729-87cf-d85e6fe5f4b0",
   "metadata": {
    "tags": []
   },
   "outputs": [],
   "source": [
    "recall1 = recall_score(y_test1, y_pred1)\n",
    "recall1"
   ]
  },
  {
   "cell_type": "code",
   "execution_count": null,
   "id": "6fe931ca-230b-4d46-b8ee-9552a3d01023",
   "metadata": {
    "tags": []
   },
   "outputs": [],
   "source": [
    "conf_matrix1 = confusion_matrix(y_test1, y_pred1)\n",
    "conf_matrix1"
   ]
  },
  {
   "cell_type": "code",
   "execution_count": null,
   "id": "7537ba3b-8546-428a-9c39-2bb52fd36515",
   "metadata": {},
   "outputs": [],
   "source": [
    "cm = confusion_matrix(y_test, y_pred)\n",
    "plt.figure(figsize=(8, 6))\n",
    "sns.heatmap(conf_matrix1, annot=True, fmt='d', cmap='Blues', cbar=False)\n",
    "plt.xlabel('Predicciones')\n",
    "plt.ylabel('Etiquetas Verdaderas')\n",
    "plt.title('Matriz de Confusión')\n",
    "plt.show()"
   ]
  }
 ],
 "metadata": {
  "kernelspec": {
   "display_name": "Python 3 (ipykernel)",
   "language": "python",
   "name": "python3"
  },
  "language_info": {
   "codemirror_mode": {
    "name": "ipython",
    "version": 3
   },
   "file_extension": ".py",
   "mimetype": "text/x-python",
   "name": "python",
   "nbconvert_exporter": "python",
   "pygments_lexer": "ipython3",
   "version": "3.11.5"
  }
 },
 "nbformat": 4,
 "nbformat_minor": 5
}
