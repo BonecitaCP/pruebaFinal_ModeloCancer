{
 "cells": [
  {
   "cell_type": "code",
   "execution_count": null,
   "id": "1d9593ee-560f-4b63-9e1a-9e5adc2baf93",
   "metadata": {
    "tags": []
   },
   "outputs": [],
   "source": [
    "#Importar datos"
   ]
  },
  {
   "cell_type": "code",
   "execution_count": null,
   "id": "e01c9ec0-bd86-48ac-ade2-b1dd0a898be4",
   "metadata": {
    "tags": []
   },
   "outputs": [],
   "source": [
    "#Leer los archivos base"
   ]
  },
  {
   "cell_type": "code",
   "execution_count": null,
   "id": "58631930-ff42-4f18-9992-25a4cced6a7e",
   "metadata": {},
   "outputs": [],
   "source": [
    "categorias = './Data/Caracteristicas.txt'"
   ]
  },
  {
   "cell_type": "code",
   "execution_count": null,
   "id": "15bb0b4f-b621-42ed-bb38-380449b6cae1",
   "metadata": {
    "tags": []
   },
   "outputs": [],
   "source": [
    "data = './Data/wdbc.data'"
   ]
  },
  {
   "cell_type": "code",
   "execution_count": null,
   "id": "1eaff109-3f03-4b0f-b9bd-c4942358e40d",
   "metadata": {
    "tags": []
   },
   "outputs": [],
   "source": [
    "categorias"
   ]
  },
  {
   "cell_type": "code",
   "execution_count": null,
   "id": "464aa8c9-dc36-4ac1-a025-bcc8b3e8bc0c",
   "metadata": {
    "tags": []
   },
   "outputs": [],
   "source": [
    "data"
   ]
  },
  {
   "cell_type": "code",
   "execution_count": null,
   "id": "795a3884-d3a0-42f8-9934-30e6575eceb1",
   "metadata": {
    "tags": []
   },
   "outputs": [],
   "source": [
    "with open(categorias, 'r') as names_file:\n",
    "    encabezados = names_file.read().splitlines()"
   ]
  },
  {
   "cell_type": "code",
   "execution_count": null,
   "id": "4bdd114a-4bf2-4076-8868-095be225aa16",
   "metadata": {
    "tags": []
   },
   "outputs": [],
   "source": [
    "encabezados"
   ]
  },
  {
   "cell_type": "code",
   "execution_count": null,
   "id": "7366559f-5f8c-4cca-856c-362c09beb81e",
   "metadata": {
    "tags": []
   },
   "outputs": [],
   "source": [
    "with open(data, 'r') as names_file:\n",
    "    datos = names_file.read().splitlines()"
   ]
  },
  {
   "cell_type": "code",
   "execution_count": null,
   "id": "42294474-7c66-4f9c-977c-ad7746629df3",
   "metadata": {
    "tags": []
   },
   "outputs": [],
   "source": [
    "datos"
   ]
  },
  {
   "cell_type": "code",
   "execution_count": null,
   "id": "a9d81388-e787-437a-b4f2-04b93ff0337a",
   "metadata": {},
   "outputs": [],
   "source": [
    "#Unir datos"
   ]
  },
  {
   "cell_type": "code",
   "execution_count": null,
   "id": "e7aba83c-1b6e-4e29-95c1-195a75c62f46",
   "metadata": {
    "tags": []
   },
   "outputs": [],
   "source": [
    "wdbcDatos=encabezados+datos"
   ]
  },
  {
   "cell_type": "code",
   "execution_count": null,
   "id": "abd428f8-d92c-478b-9b40-aa52cff186c3",
   "metadata": {
    "tags": []
   },
   "outputs": [],
   "source": [
    "wdbcDatos"
   ]
  },
  {
   "cell_type": "code",
   "execution_count": null,
   "id": "1626098a-1ed8-4c52-a15d-9519836ec855",
   "metadata": {},
   "outputs": [],
   "source": [
    "#Crear el archivo consolidado"
   ]
  },
  {
   "cell_type": "code",
   "execution_count": null,
   "id": "be282912-b118-4023-a959-97050c185784",
   "metadata": {
    "tags": []
   },
   "outputs": [],
   "source": [
    "# Escribe el resultado en un nuevo archivo\n",
    "with open('./Data/wdbc.txt', 'w') as output_file:\n",
    "    for line in wdbcDatos:\n",
    "        output_file.write(\"%s\\n\" % line)"
   ]
  }
 ],
 "metadata": {
  "kernelspec": {
   "display_name": "Python 3 (ipykernel)",
   "language": "python",
   "name": "python3"
  },
  "language_info": {
   "codemirror_mode": {
    "name": "ipython",
    "version": 3
   },
   "file_extension": ".py",
   "mimetype": "text/x-python",
   "name": "python",
   "nbconvert_exporter": "python",
   "pygments_lexer": "ipython3",
   "version": "3.11.5"
  }
 },
 "nbformat": 4,
 "nbformat_minor": 5
}
